{
 "cells": [
  {
   "cell_type": "markdown",
   "id": "7a086e65",
   "metadata": {},
   "source": [
    "# Portfolio Simulation with Monte Carlo\n",
    "\n",
    "Source:\n",
    "\n",
    "- https://www.youtube.com/watch?v=6-dhdMDiYWQ&ab_channel=QuantPy\n",
    "\n",
    "- https://whalewisdom.com/filer/harvard-management-co-inc#tabholdings_tab_link (Harvard Management Company's top portfolio choices)"
   ]
  },
  {
   "cell_type": "code",
   "execution_count": 2,
   "id": "a1ed460d",
   "metadata": {},
   "outputs": [],
   "source": [
    "import pandas as pd\n",
    "import numpy as np\n",
    "import matplotlib.pyplot as plt\n",
    "import datetime as dt\n",
    "from pandas_datareader import data as pdr"
   ]
  },
  {
   "cell_type": "markdown",
   "id": "613163ee",
   "metadata": {},
   "source": [
    "First we find a way of grabbing price data for all stocks in a portfolio and inferring the:\n",
    "\n",
    "- mean returns\n",
    "\n",
    "- the covariance matrix"
   ]
  },
  {
   "cell_type": "code",
   "execution_count": 4,
   "id": "7fce6aee",
   "metadata": {},
   "outputs": [
    {
     "name": "stdout",
     "output_type": "stream",
     "text": [
      "Symbols\n",
      "GOOGL   -0.000264\n",
      "META    -0.002220\n",
      "LNW      0.000081\n",
      "ABCL     0.000087\n",
      "EQRX    -0.000718\n",
      "PCT      0.001008\n",
      "GRAB    -0.002414\n",
      "dtype: float64\n"
     ]
    }
   ],
   "source": [
    "def get_portfolio_data(portfolio, start, end):\n",
    "    portfolio_data = pdr.get_data_yahoo(portfolio, start, end)\n",
    "    portfolio_data = portfolio_data['Close']\n",
    "    returns = portfolio_data.pct_change()\n",
    "    mean_returns = returns.mean()\n",
    "    cov_matrix = returns.cov()\n",
    "\n",
    "    return mean_returns, cov_matrix\n",
    "\n",
    "end_date = dt.datetime.now()\n",
    "start_date = end_date - dt.timedelta(days=365)\n",
    "\n",
    "portfolio = ['GOOGL','META','LNW','ABCL','EQRX','PCT','GRAB']\n",
    "\n",
    "mean_ret, cov_mat = get_portfolio_data(portfolio, start_date, end_date)\n",
    "\n",
    "print(mean_ret)"
   ]
  },
  {
   "cell_type": "code",
   "execution_count": 6,
   "id": "7286a22c",
   "metadata": {},
   "outputs": [
    {
     "name": "stdout",
     "output_type": "stream",
     "text": [
      "[0.3908016443987668, 0.2724820143884893, 0.18717882836587876, 0.06500513874614595, 0.0367420349434738, 0.027620760534429602, 0.020169578622816035]\n",
      "1.0000000000000004\n"
     ]
    }
   ],
   "source": [
    "portfolio_weights = [0.3042, 0.2121, 0.1457, 0.0506, 0.0286, 0.0215, 0.0157]\n",
    "total = sum(portfolio_weights)\n",
    "portfolio_weights = [i/total for i in portfolio_weights]\n",
    "print(portfolio_weights)\n",
    "print(sum(portfolio_weights))"
   ]
  },
  {
   "cell_type": "markdown",
   "id": "80f7e11d",
   "metadata": {},
   "source": [
    "Now doing the Monte Carlo simulations:\n",
    "\n",
    "Suppose that the vector of returns $\\vec{R_t}\\sim\\mathcal{\\mu, \\Sigma}$. Then we use the Cholesky decomposition of the covariance matrix by its nonsingularity:\n",
    "\n",
    "$$\\Sigma = LL^T$$\n",
    "\n",
    "where $\\vec{R_t}=\\mu+L\\vec{Z_t}$ and $Z_t\\sim\\mathcal{N}(0,I)$"
   ]
  },
  {
   "cell_type": "code",
   "execution_count": 20,
   "id": "394b8408",
   "metadata": {},
   "outputs": [],
   "source": [
    "num_sims = 10000\n",
    "\n",
    "T = 200\n",
    "\n",
    "means = np.full(shape=(T, len(portfolio)), fill_value=mean_ret)\n",
    "\n",
    "means = means.T #to be able to use it in matrix operations\n",
    "\n",
    "portfolio_sims = np.full(shape=(T, num_sims), fill_value=0.0)\n",
    "\n",
    "starting_value = 10000\n",
    "\n",
    "for i in range(num_sims):\n",
    "    \n",
    "    Z = np.random.normal(size = (T, len(portfolio))) # multivariate standard normal vector\n",
    "    \n",
    "    L = np.linalg.cholesky(cov_mat) # finds the Cholesky decomposition matrix L\n",
    "    \n",
    "    daily_returns = means + np.inner(L, Z) # generates R_t\n",
    "    \n",
    "    portfolio_sims[:,i] = np.cumprod(np.inner(portfolio_weights, daily_returns.T)+1) * starting_value\n",
    "    \n",
    "#plt.plot(portfolio_sims)\n",
    "    \n",
    "#plt.show"
   ]
  },
  {
   "cell_type": "markdown",
   "id": "0929e64a",
   "metadata": {},
   "source": [
    "Plotting the histogram of the portfolio value across many simulations at the end of the given time"
   ]
  },
  {
   "cell_type": "code",
   "execution_count": 22,
   "id": "31af26b5",
   "metadata": {},
   "outputs": [
    {
     "data": {
      "image/png": "[encoded data removed]",
      "text/plain": [
       "<Figure size 432x288 with 1 Axes>"
      ]
     },
     "metadata": {
      "needs_background": "light"
     },
     "output_type": "display_data"
    }
   ],
   "source": [
    "plt.hist(portfolio_sims[T-1,:], bins=200)\n",
    "plt.show()"
   ]
  },
  {
   "cell_type": "code",
   "execution_count": null,
   "id": "ef346398",
   "metadata": {},
   "outputs": [],
   "source": []
  }
 ],
 "metadata": {
  "kernelspec": {
   "display_name": "Python 3 (ipykernel)",
   "language": "python",
   "name": "python3"
  },
  "language_info": {
   "codemirror_mode": {
    "name": "ipython",
    "version": 3
   },
   "file_extension": ".py",
   "mimetype": "text/x-python",
   "name": "python",
   "nbconvert_exporter": "python",
   "pygments_lexer": "ipython3",
   "version": "3.9.12"
  }
 },
 "nbformat": 4,
 "nbformat_minor": 5
}
