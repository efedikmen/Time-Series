{
 "cells": [
  {
   "cell_type": "markdown",
   "id": "383c927c",
   "metadata": {},
   "source": [
    "# One Factor Hull White Short Rate model - Efe Dikmen\n",
    "Sources:\n",
    "* Shreve Continous Time Finance II, Chapter 6"
   ]
  },
  {
   "cell_type": "markdown",
   "id": "a6d5081d",
   "metadata": {},
   "source": [
    "The associated interest rate process $R_t$ is given by the SDE:\n",
    "\n",
    "$$dR_t=(a(t)-b(t)R_t)dt+\\sigma(t)d\\widetilde{W}_t$$\n",
    "\n",
    "where $\\widetilde{W}_t$ is Brownian Motion under the risk neutral measure $\\widetilde{\\mathbb{P}}$.\n",
    "\n",
    "\n",
    "An important caveat to the HW model is that $\\mathbb{P}(R_t<0)>0$, which means that the interest rate process can go below 0 here.\n"
   ]
  },
  {
   "cell_type": "markdown",
   "id": "879535d1",
   "metadata": {},
   "source": [
    "## Solution for the interest rate process:\n",
    "Take the integrating factor $Y_t=e^{\\int_0^t b(s)ds}$.\n",
    "\n",
    "$$\\implies dY_t=b(t)Y_tdt$$\n",
    "\n",
    "Now by Ito's product rule:\n",
    "\n",
    "$$d(Y_tR_t)=Y_tdR_t+R_tdY_t+dR_tdY_t$$\n",
    "\n",
    "The cross variation term is zero as $dY_t$ is only in terms of $dt$. Plugging in the other terms:\n",
    "\n",
    "$$d(Y_tR_t)=Y_ta(t)dt-Y_tb(t)R_tdt+\\sigma(t)d\\widetilde{W}_t+R_tb(t)Y_tdt$$\\\n",
    "$$\\implies d(Y_tR_t)=Y_ta(t)dt+\\sigma(t)d\\widetilde{W}_t$$\n",
    "\n",
    "Integrating from $t$ to $T$:\n",
    "\n",
    "$$R_TY_T-R_tY_t=\\int_t^T Y_sa(s)ds+\\int_t^T Y_s\\sigma(s)d\\widetilde{W}_s$$\n",
    "\n",
    "Using the initial condition that $R_t=x$:\n",
    "\n",
    "$$R_TY_T-xY_t=\\int_t^T Y_sa(s)ds+\\int_t^T Y_s\\sigma(s)d\\widetilde{W}_s$$\n",
    "$$\\implies R_T=\\frac{xY_t+\\int_t^T Y_sa(s)ds+\\int_t^T Y_s\\sigma(s)d\\widetilde{W}_s}{Y_T}$$\n",
    "$$\\implies R_t=xe^{-\\int_t^T b(u)du}+\\int_t^T e^{-\\int_s^T b(u)du}a(s)ds+\\int_t^T e^{-\\int_s^T b(u)du}\\sigma(s)d\\widetilde{W}_s$$"
   ]
  },
  {
   "cell_type": "markdown",
   "id": "6a13cdda",
   "metadata": {},
   "source": [
    "## Distribution of the interest rate process:\n",
    "\n",
    "Since the expectation of the Ito integral is 0:\n",
    "\n",
    "$$\\mathbb{E}[R_t]=xe^{-\\int_t^T b(u)du}+\\int_t^Te^{-\\int_s^T b(u)du}a(s)ds$$\n",
    "\n",
    "Observe that the first two terms are deterministic and the third term is a normal random variable under the risk neutral measure $\\widetilde{P}$. By the Ito isometry, the third term is distributed as:\n",
    "\n",
    "$$\\int_t^T e^{-\\int_s^T b(u)du}\\sigma(s)d\\widetilde{W}_s\\sim\\mathcal{N}(0,\\int_t^T e^{-2\\int_s^T b(u)du}\\sigma^2(s)ds)$$\n",
    "\n",
    "$$\\implies R_t\\sim\\mathcal{N}\\left(xe^{-\\int_t^T b(u)du}+\\int_t^Te^{-\\int_s^T b(u)du}a(s)ds,\\int_t^T e^{-2\\int_s^T b(u)du}\\sigma^2(s)ds\\right)$$\n",
    "\n",
    "where the initial condition is $R_t=x$."
   ]
  },
  {
   "cell_type": "markdown",
   "id": "2bc9cbf7",
   "metadata": {},
   "source": [
    "## Simulation of the interest rate process"
   ]
  },
  {
   "cell_type": "code",
   "execution_count": null,
   "id": "2e5c3fec",
   "metadata": {},
   "outputs": [],
   "source": [
    "from dataclasses import dataclass\n",
    "from typing import Optional, NoReturn, Any\n",
    "import numpy as np\n",
    "\n",
    "@dataclass\n",
    "class HWparams"
   ]
  }
 ],
 "metadata": {
  "kernelspec": {
   "display_name": "Python 3 (ipykernel)",
   "language": "python",
   "name": "python3"
  },
  "language_info": {
   "codemirror_mode": {
    "name": "ipython",
    "version": 3
   },
   "file_extension": ".py",
   "mimetype": "text/x-python",
   "name": "python",
   "nbconvert_exporter": "python",
   "pygments_lexer": "ipython3",
   "version": "3.9.12"
  }
 },
 "nbformat": 4,
 "nbformat_minor": 5
}
